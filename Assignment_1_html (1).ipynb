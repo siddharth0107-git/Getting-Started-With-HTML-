{
  "nbformat": 4,
  "nbformat_minor": 0,
  "metadata": {
    "colab": {
      "provenance": []
    },
    "kernelspec": {
      "name": "python3",
      "display_name": "Python 3"
    },
    "language_info": {
      "name": "python"
    }
  },
  "cells": [
    {
      "cell_type": "markdown",
      "source": [
        "Question 1:\n",
        "Write a simple program in HTML  that displays the heading \"HTML defines the content and structure of\n",
        "your website” on the web browser\n"
      ],
      "metadata": {
        "id": "aFzRFPsLaWX5"
      }
    },
    {
      "cell_type": "code",
      "source": [
        "#Ansewr :\n",
        "<!DOCTYPE html>\n",
        "<html>\n",
        "<head>\n",
        "  <title> HTML PAGE </title>\n",
        "</head>\n",
        "<body>\n",
        "  <h1> content and structure of the website </h1>\n",
        "</body>\n",
        "</html>\n"
      ],
      "metadata": {
        "id": "VVzD4mk9aX73"
      },
      "execution_count": null,
      "outputs": []
    },
    {
      "cell_type": "markdown",
      "source": [
        "Question 2: Explain the purpose of comments in HTML and provide an example of how to use comments in an HTML\n",
        "document\n"
      ],
      "metadata": {
        "id": "siP3BGpua6wt"
      }
    },
    {
      "cell_type": "markdown",
      "source": [
        "**Answer:**\n",
        "\n",
        "  - Html comments are used to add some notes in between the code that will not be displayed in the execution or in the web page , it helps the Devlopers easier to understand the code\n"
      ],
      "metadata": {
        "id": "v-E6RCKtbDzy"
      }
    },
    {
      "cell_type": "markdown",
      "source": [
        "Question 3: Write an HTML program that includes a heading, a paragraph of text, a horizontal line, and a line break.\n",
        "Arrange these elements to create a simple web page layout  "
      ],
      "metadata": {
        "id": "Y39z-8DPcT1U"
      }
    },
    {
      "cell_type": "code",
      "source": [
        "# Answer :\n",
        "<!DOCTYPE html>\n",
        "<html>\n",
        "<head>\n",
        "    <title>Simple Web Page </title>\n",
        "</head>\n",
        "<body>\n",
        "    <h1>My First Web Page</h1>\n",
        "    <p>Paragraph line<br>\n",
        "    I have build my own websites!</p>\n",
        "    <hr>\n",
        "    <p>Thank you for visiting!</p>\n",
        "</body>\n",
        "</html>\n"
      ],
      "metadata": {
        "id": "BKLxetFGcuqu"
      },
      "execution_count": null,
      "outputs": []
    },
    {
      "cell_type": "markdown",
      "source": [
        "Question 4:\n",
        "Write a short note on Tag and element with an example\n",
        "\n"
      ],
      "metadata": {
        "id": "6XNuIQhKeqPM"
      }
    },
    {
      "cell_type": "markdown",
      "source": [
        "**Answer :**\n",
        "\n",
        "   - Tags:  Html tags are used to start and end an element which are defined in angular brackets \"<>\"\n",
        "\n",
        "   - Elements: Elements in html contains Start tag,content,end tag\n",
        "\n",
        "\n",
        "**Example:**"
      ],
      "metadata": {
        "id": "SBUWsoDLe5YS"
      }
    },
    {
      "cell_type": "code",
      "source": [
        "<h1>Welcome to my website</h1>\n"
      ],
      "metadata": {
        "id": "OEgdztjHfwE_"
      },
      "execution_count": null,
      "outputs": []
    },
    {
      "cell_type": "markdown",
      "source": [
        "**Question 5:**\n",
        "What is the DOCTYPE Declaration in HTML?"
      ],
      "metadata": {
        "id": "GJnXYAv5hQNb"
      }
    },
    {
      "cell_type": "markdown",
      "source": [
        "**Answer :**\n",
        "\n",
        "   - The DOCTYPE Declaration is used to tell the web browser type of the document and version of HTML , and it must be at the starting of the code  \n",
        "\n",
        "\n",
        "\n",
        "\n"
      ],
      "metadata": {
        "id": "5OyWQoiOhYbf"
      }
    },
    {
      "cell_type": "code",
      "source": [
        "<!DOCTYPE html>"
      ],
      "metadata": {
        "id": "CFRwAFqmiPyd"
      },
      "execution_count": null,
      "outputs": []
    }
  ]
}